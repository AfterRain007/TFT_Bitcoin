{
 "cells": [
  {
   "cell_type": "code",
   "execution_count": 5,
   "metadata": {},
   "outputs": [
    {
     "data": {
      "text/plain": [
       "5"
      ]
     },
     "execution_count": 5,
     "metadata": {},
     "output_type": "execute_result"
    }
   ],
   "source": [
    "testDict = {\n",
    "    'param1' : [5, 6],\n",
    "    'param2' : 17\n",
    "}\n",
    "\n",
    "testDict['param1'][0]"
   ]
  },
  {
   "cell_type": "code",
   "execution_count": 2,
   "metadata": {},
   "outputs": [
    {
     "data": {
      "text/plain": [
       "{'param1': 5, 'param2': 17}"
      ]
     },
     "execution_count": 2,
     "metadata": {},
     "output_type": "execute_result"
    }
   ],
   "source": []
  },
  {
   "cell_type": "code",
   "execution_count": 8,
   "metadata": {},
   "outputs": [],
   "source": [
    "from sklearn.ensemble import IsolationForest"
   ]
  },
  {
   "cell_type": "code",
   "execution_count": 12,
   "metadata": {},
   "outputs": [],
   "source": [
    "columns = ['price', 'volume']\n",
    "\n",
    "model_IF = IsolationForest(contamination=float(0.1),random_state=42069)\n",
    "model_IF.fit(df[columns])\n",
    "df['anomaly_scores'] = model_IF.decision_function(df[columns])\n",
    "df['anomaly'] = model_IF.predict(df[columns])\n"
   ]
  },
  {
   "cell_type": "code",
   "execution_count": 13,
   "metadata": {},
   "outputs": [
    {
     "data": {
      "text/html": [
       "<div>\n",
       "<style scoped>\n",
       "    .dataframe tbody tr th:only-of-type {\n",
       "        vertical-align: middle;\n",
       "    }\n",
       "\n",
       "    .dataframe tbody tr th {\n",
       "        vertical-align: top;\n",
       "    }\n",
       "\n",
       "    .dataframe thead th {\n",
       "        text-align: right;\n",
       "    }\n",
       "</style>\n",
       "<table border=\"1\" class=\"dataframe\">\n",
       "  <thead>\n",
       "    <tr style=\"text-align: right;\">\n",
       "      <th></th>\n",
       "      <th>price</th>\n",
       "      <th>volume</th>\n",
       "      <th>sen</th>\n",
       "      <th>trend</th>\n",
       "      <th>anomaly_scores</th>\n",
       "      <th>anomaly</th>\n",
       "    </tr>\n",
       "    <tr>\n",
       "      <th>date</th>\n",
       "      <th></th>\n",
       "      <th></th>\n",
       "      <th></th>\n",
       "      <th></th>\n",
       "      <th></th>\n",
       "      <th></th>\n",
       "    </tr>\n",
       "  </thead>\n",
       "  <tbody>\n",
       "    <tr>\n",
       "      <th>2017-12-03</th>\n",
       "      <td>11256.701829</td>\n",
       "      <td>5.761492e+09</td>\n",
       "      <td>0.012876</td>\n",
       "      <td>28.583750</td>\n",
       "      <td>0.081052</td>\n",
       "      <td>1</td>\n",
       "    </tr>\n",
       "    <tr>\n",
       "      <th>2017-12-04</th>\n",
       "      <td>11634.984955</td>\n",
       "      <td>3.216350e+09</td>\n",
       "      <td>-0.272631</td>\n",
       "      <td>32.723823</td>\n",
       "      <td>0.066869</td>\n",
       "      <td>1</td>\n",
       "    </tr>\n",
       "    <tr>\n",
       "      <th>2017-12-05</th>\n",
       "      <td>12174.253740</td>\n",
       "      <td>3.131953e+09</td>\n",
       "      <td>-0.065962</td>\n",
       "      <td>34.793859</td>\n",
       "      <td>0.047051</td>\n",
       "      <td>1</td>\n",
       "    </tr>\n",
       "    <tr>\n",
       "      <th>2017-12-06</th>\n",
       "      <td>13876.473579</td>\n",
       "      <td>5.086411e+09</td>\n",
       "      <td>-0.141230</td>\n",
       "      <td>46.179058</td>\n",
       "      <td>0.046741</td>\n",
       "      <td>1</td>\n",
       "    </tr>\n",
       "    <tr>\n",
       "      <th>2017-12-07</th>\n",
       "      <td>18491.181554</td>\n",
       "      <td>1.648292e+10</td>\n",
       "      <td>-0.169460</td>\n",
       "      <td>98.964982</td>\n",
       "      <td>0.099112</td>\n",
       "      <td>1</td>\n",
       "    </tr>\n",
       "  </tbody>\n",
       "</table>\n",
       "</div>"
      ],
      "text/plain": [
       "                   price        volume       sen      trend  anomaly_scores  \\\n",
       "date                                                                          \n",
       "2017-12-03  11256.701829  5.761492e+09  0.012876  28.583750        0.081052   \n",
       "2017-12-04  11634.984955  3.216350e+09 -0.272631  32.723823        0.066869   \n",
       "2017-12-05  12174.253740  3.131953e+09 -0.065962  34.793859        0.047051   \n",
       "2017-12-06  13876.473579  5.086411e+09 -0.141230  46.179058        0.046741   \n",
       "2017-12-07  18491.181554  1.648292e+10 -0.169460  98.964982        0.099112   \n",
       "\n",
       "            anomaly  \n",
       "date                 \n",
       "2017-12-03        1  \n",
       "2017-12-04        1  \n",
       "2017-12-05        1  \n",
       "2017-12-06        1  \n",
       "2017-12-07        1  "
      ]
     },
     "execution_count": 13,
     "metadata": {},
     "output_type": "execute_result"
    }
   ],
   "source": [
    "df.head()"
   ]
  },
  {
   "cell_type": "code",
   "execution_count": 14,
   "metadata": {},
   "outputs": [
    {
     "data": {
      "text/html": [
       "<div>\n",
       "<style scoped>\n",
       "    .dataframe tbody tr th:only-of-type {\n",
       "        vertical-align: middle;\n",
       "    }\n",
       "\n",
       "    .dataframe tbody tr th {\n",
       "        vertical-align: top;\n",
       "    }\n",
       "\n",
       "    .dataframe thead th {\n",
       "        text-align: right;\n",
       "    }\n",
       "</style>\n",
       "<table border=\"1\" class=\"dataframe\">\n",
       "  <thead>\n",
       "    <tr style=\"text-align: right;\">\n",
       "      <th></th>\n",
       "      <th>price</th>\n",
       "      <th>volume</th>\n",
       "      <th>sen</th>\n",
       "      <th>trend</th>\n",
       "      <th>anomaly_scores</th>\n",
       "      <th>anomaly</th>\n",
       "    </tr>\n",
       "    <tr>\n",
       "      <th>date</th>\n",
       "      <th></th>\n",
       "      <th></th>\n",
       "      <th></th>\n",
       "      <th></th>\n",
       "      <th></th>\n",
       "      <th></th>\n",
       "    </tr>\n",
       "  </thead>\n",
       "  <tbody>\n",
       "    <tr>\n",
       "      <th>2017-12-03</th>\n",
       "      <td>11256.701829</td>\n",
       "      <td>5.761492e+09</td>\n",
       "      <td>0.012876</td>\n",
       "      <td>28.583750</td>\n",
       "      <td>0.081052</td>\n",
       "      <td>0</td>\n",
       "    </tr>\n",
       "    <tr>\n",
       "      <th>2017-12-04</th>\n",
       "      <td>11634.984955</td>\n",
       "      <td>3.216350e+09</td>\n",
       "      <td>-0.272631</td>\n",
       "      <td>32.723823</td>\n",
       "      <td>0.066869</td>\n",
       "      <td>0</td>\n",
       "    </tr>\n",
       "    <tr>\n",
       "      <th>2017-12-05</th>\n",
       "      <td>12174.253740</td>\n",
       "      <td>3.131953e+09</td>\n",
       "      <td>-0.065962</td>\n",
       "      <td>34.793859</td>\n",
       "      <td>0.047051</td>\n",
       "      <td>0</td>\n",
       "    </tr>\n",
       "    <tr>\n",
       "      <th>2017-12-06</th>\n",
       "      <td>13876.473579</td>\n",
       "      <td>5.086411e+09</td>\n",
       "      <td>-0.141230</td>\n",
       "      <td>46.179058</td>\n",
       "      <td>0.046741</td>\n",
       "      <td>0</td>\n",
       "    </tr>\n",
       "    <tr>\n",
       "      <th>2017-12-07</th>\n",
       "      <td>18491.181554</td>\n",
       "      <td>1.648292e+10</td>\n",
       "      <td>-0.169460</td>\n",
       "      <td>98.964982</td>\n",
       "      <td>0.099112</td>\n",
       "      <td>0</td>\n",
       "    </tr>\n",
       "  </tbody>\n",
       "</table>\n",
       "</div>"
      ],
      "text/plain": [
       "                   price        volume       sen      trend  anomaly_scores  \\\n",
       "date                                                                          \n",
       "2017-12-03  11256.701829  5.761492e+09  0.012876  28.583750        0.081052   \n",
       "2017-12-04  11634.984955  3.216350e+09 -0.272631  32.723823        0.066869   \n",
       "2017-12-05  12174.253740  3.131953e+09 -0.065962  34.793859        0.047051   \n",
       "2017-12-06  13876.473579  5.086411e+09 -0.141230  46.179058        0.046741   \n",
       "2017-12-07  18491.181554  1.648292e+10 -0.169460  98.964982        0.099112   \n",
       "\n",
       "            anomaly  \n",
       "date                 \n",
       "2017-12-03        0  \n",
       "2017-12-04        0  \n",
       "2017-12-05        0  \n",
       "2017-12-06        0  \n",
       "2017-12-07        0  "
      ]
     },
     "execution_count": 14,
     "metadata": {},
     "output_type": "execute_result"
    }
   ],
   "source": [
    "df['anomaly'] = df['anomaly'].map({1:0, -1:1})\n",
    "dfAnomaly  = df[df['anomaly'] == 1]\n",
    "\n",
    "df.head()"
   ]
  },
  {
   "cell_type": "code",
   "execution_count": 4,
   "metadata": {},
   "outputs": [],
   "source": [
    "df.to_csv(\"./data/sentiment.csv\", index = False)"
   ]
  },
  {
   "cell_type": "code",
   "execution_count": 1,
   "metadata": {},
   "outputs": [
    {
     "ename": "NameError",
     "evalue": "name 'df' is not defined",
     "output_type": "error",
     "traceback": [
      "\u001b[1;31m---------------------------------------------------------------------------\u001b[0m",
      "\u001b[1;31mNameError\u001b[0m                                 Traceback (most recent call last)",
      "Cell \u001b[1;32mIn[1], line 1\u001b[0m\n\u001b[1;32m----> 1\u001b[0m \u001b[43mdf\u001b[49m\n",
      "\u001b[1;31mNameError\u001b[0m: name 'df' is not defined"
     ]
    }
   ],
   "source": [
    "df"
   ]
  }
 ],
 "metadata": {
  "kernelspec": {
   "display_name": "Python 3",
   "language": "python",
   "name": "python3"
  },
  "language_info": {
   "codemirror_mode": {
    "name": "ipython",
    "version": 3
   },
   "file_extension": ".py",
   "mimetype": "text/x-python",
   "name": "python",
   "nbconvert_exporter": "python",
   "pygments_lexer": "ipython3",
   "version": "3.12.2"
  }
 },
 "nbformat": 4,
 "nbformat_minor": 2
}
